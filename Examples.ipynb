{
 "cells": [
  {
   "cell_type": "markdown",
   "id": "3278125e-0bca-4488-8e34-a1ee0ea0e84e",
   "metadata": {},
   "source": [
    "# Utilidad Wordle\n",
    "\n",
    "El módulo _wordle_ tiene dos clases: **Filter** y **Matcher** ambos se complementan y pueden ser la base para crear una funcionalides nuevas, establecer estimaciones estadísticas y hacer cálculos. El diccionario original está tomado \n",
    "\n",
    "**Filter**\n",
    "\n",
    "Con **Filter** puedes ir descartando palabras del diccionario quedándote solo con las válidas según las pistas dadas.\n",
    "\n",
    "**Matcher**\n",
    "\n",
    "Con **Matcher** puedes emular el juego de Wordle en base a una palabra dada."
   ]
  },
  {
   "cell_type": "code",
   "execution_count": 1,
   "id": "fc3759e5-0e60-4b93-bfd6-a015b242ef9d",
   "metadata": {},
   "outputs": [],
   "source": [
    "import wordle as w"
   ]
  },
  {
   "cell_type": "markdown",
   "id": "ae9ce074-aa78-4b22-922a-b302b0467cb6",
   "metadata": {},
   "source": [
    "### Módulo filter"
   ]
  },
  {
   "cell_type": "code",
   "execution_count": 2,
   "id": "50c9a439-a621-4364-b2cd-3afd34212613",
   "metadata": {},
   "outputs": [
    {
     "name": "stdout",
     "output_type": "stream",
     "text": [
      "Filtra las palabras del diccionario en base a los resultados de Wordle.\n",
      "\n",
      "    Se inicializa con una palabra y la lista de valores que devuelve el juego.\n",
      "    Se puede llamar varias veces con nuevas palabras y valores que reducirá\n",
      "    las posibilidades.\n",
      "    \n"
     ]
    }
   ],
   "source": [
    "# Módulo Filter\n",
    "print(w.Filter.__doc__)"
   ]
  },
  {
   "cell_type": "code",
   "execution_count": 3,
   "id": "91e403d3-5e8a-4f69-8004-146c3cea9ace",
   "metadata": {},
   "outputs": [
    {
     "name": "stdout",
     "output_type": "stream",
     "text": [
      "264 palabras restantes\n"
     ]
    }
   ],
   "source": [
    "w_filter = w.Filter('ovulo',[0,0,2,0,1])"
   ]
  },
  {
   "cell_type": "code",
   "execution_count": 4,
   "id": "f5b57722-d65c-481b-b933-a40e98d84fcf",
   "metadata": {},
   "outputs": [
    {
     "name": "stdout",
     "output_type": "stream",
     "text": [
      "11 palabras restantes\n"
     ]
    }
   ],
   "source": [
    "w_filter.next_word('sexto',[1,0,0,0,1])"
   ]
  },
  {
   "cell_type": "code",
   "execution_count": 5,
   "id": "da616e73-99e2-4efd-bf1c-1551e35c0bb1",
   "metadata": {},
   "outputs": [
    {
     "data": {
      "text/plain": [
       "['suabo',\n",
       " 'subio',\n",
       " 'sucio',\n",
       " 'sufro',\n",
       " 'suido',\n",
       " 'suizo',\n",
       " 'sumio',\n",
       " 'sunco',\n",
       " 'surco',\n",
       " 'surdo',\n",
       " 'surjo']"
      ]
     },
     "execution_count": 5,
     "metadata": {},
     "output_type": "execute_result"
    }
   ],
   "source": [
    "w_filter.posibles"
   ]
  },
  {
   "cell_type": "markdown",
   "id": "3be5b712-980e-4fe3-9c53-8086df3f9923",
   "metadata": {},
   "source": [
    "### Módulo Matcher"
   ]
  },
  {
   "cell_type": "code",
   "execution_count": 6,
   "id": "4336d90e-6662-429d-866c-913fd3892e2c",
   "metadata": {},
   "outputs": [
    {
     "name": "stdout",
     "output_type": "stream",
     "text": [
      "Core del juego Wordle. Devuelve las pistas de la palabra objetivo.\n",
      "\n",
      "        Valores:\n",
      "            0: No existe la letra. Gris.\n",
      "            1: Letra en el lugar correcto. Verde.\n",
      "            2: No está en el lugar correcto. Amarillo.\n",
      "    \n"
     ]
    }
   ],
   "source": [
    "# Módulo Matcher\n",
    "print(w.Matcher.__doc__)"
   ]
  },
  {
   "cell_type": "code",
   "execution_count": 7,
   "id": "fd072841-a6c9-4668-a4ae-f685233987b6",
   "metadata": {},
   "outputs": [],
   "source": [
    "wordle = w.Matcher()"
   ]
  },
  {
   "cell_type": "code",
   "execution_count": 8,
   "id": "72e31a26-30fb-4544-9c46-6a1ed70cd3b8",
   "metadata": {},
   "outputs": [
    {
     "data": {
      "text/plain": [
       "[1, 0, 0, 2, 2]"
      ]
     },
     "execution_count": 8,
     "metadata": {},
     "output_type": "execute_result"
    }
   ],
   "source": [
    "wordle.guess('tenis')"
   ]
  },
  {
   "cell_type": "code",
   "execution_count": 9,
   "id": "99bc5571-d1c0-4a71-9623-fef774fc5851",
   "metadata": {},
   "outputs": [
    {
     "data": {
      "text/plain": [
       "[0, 2, 2, 0, 1]"
      ]
     },
     "execution_count": 9,
     "metadata": {},
     "output_type": "execute_result"
    }
   ],
   "source": [
    "wordle.guess('airea')"
   ]
  },
  {
   "cell_type": "code",
   "execution_count": 10,
   "id": "2e1ed678-ef25-423f-af35-7514f3194d74",
   "metadata": {},
   "outputs": [
    {
     "data": {
      "text/plain": [
       "[1, 1, 1, 1, 1]"
      ]
     },
     "execution_count": 10,
     "metadata": {},
     "output_type": "execute_result"
    }
   ],
   "source": [
    "wordle.guess('trisa')"
   ]
  },
  {
   "cell_type": "code",
   "execution_count": null,
   "id": "ead5d5e0-4bbc-4b64-bbe3-55f4201634a2",
   "metadata": {},
   "outputs": [],
   "source": []
  }
 ],
 "metadata": {
  "kernelspec": {
   "display_name": "Python 3 (ipykernel)",
   "language": "python",
   "name": "python3"
  },
  "language_info": {
   "codemirror_mode": {
    "name": "ipython",
    "version": 3
   },
   "file_extension": ".py",
   "mimetype": "text/x-python",
   "name": "python",
   "nbconvert_exporter": "python",
   "pygments_lexer": "ipython3",
   "version": "3.8.10"
  }
 },
 "nbformat": 4,
 "nbformat_minor": 5
}
